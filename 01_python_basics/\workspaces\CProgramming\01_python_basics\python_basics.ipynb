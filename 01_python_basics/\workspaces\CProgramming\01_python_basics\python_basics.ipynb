{
 "cells": [
  {
   "cell_type": "code",
   "execution_count": 1,
   "id": "da80c49a",
   "metadata": {},
   "outputs": [
    {
     "name": "stdout",
     "output_type": "stream",
     "text": [
      "Comment are not executed\n"
     ]
    }
   ],
   "source": [
    "# This is a single-line comment\n",
    "\"\"\"\n",
    "08/20/2025\n",
    "Introduction to Python\n",
    "\"\"\"\n",
    "print('Comment are not executed')"
   ]
  },
  {
   "cell_type": "code",
   "execution_count": 2,
   "id": "f1800692",
   "metadata": {},
   "outputs": [
    {
     "name": "stdout",
     "output_type": "stream",
     "text": [
      "Jack 25 5.6\n"
     ]
    }
   ],
   "source": [
    "# Variables\n",
    "name = 'Jack'\n",
    "age = 25\n",
    "height = 5.6\n",
    "\n",
    "print(name, age, height)"
   ]
  },
  {
   "cell_type": "code",
   "execution_count": 3,
   "id": "0944e3b2",
   "metadata": {},
   "outputs": [
    {
     "name": "stdout",
     "output_type": "stream",
     "text": [
      "Name: Igor, Age: 30, Height: 6.0\n"
     ]
    }
   ],
   "source": [
    "# Declaring Variables with Type Annotations\n",
    "name: str = 'Igor'\n",
    "age: int = 30\n",
    "height: float = 6.0\n",
    "\n",
    "print(f'Name: {name}, Age: {age}, Height: {height}')"
   ]
  },
  {
   "cell_type": "code",
   "execution_count": 5,
   "id": "900f5ad3",
   "metadata": {},
   "outputs": [
    {
     "name": "stdout",
     "output_type": "stream",
     "text": [
      "1.8\n",
      "1\n",
      "59049\n",
      "4\n"
     ]
    }
   ],
   "source": [
    "# Arithmetic\n",
    "a = 5\n",
    "b = 9\n",
    "print(b/a)\n",
    "print(b//a) #integer division\n",
    "print(b**a) #exponent\n",
    "print(b%a) # the remainder "
   ]
  },
  {
   "cell_type": "code",
   "execution_count": null,
   "id": "6f278a04",
   "metadata": {},
   "outputs": [],
   "source": []
  }
 ],
 "metadata": {
  "kernelspec": {
   "display_name": "Python 3",
   "language": "python",
   "name": "python3"
  },
  "language_info": {
   "codemirror_mode": {
    "name": "ipython",
    "version": 3
   },
   "file_extension": ".py",
   "mimetype": "text/x-python",
   "name": "python",
   "nbconvert_exporter": "python",
   "pygments_lexer": "ipython3",
   "version": "3.12.1"
  }
 },
 "nbformat": 4,
 "nbformat_minor": 5
}
