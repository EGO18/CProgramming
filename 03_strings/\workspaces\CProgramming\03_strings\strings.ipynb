{
 "cells": [
  {
   "cell_type": "code",
   "execution_count": 2,
   "id": "aff517d0",
   "metadata": {},
   "outputs": [
    {
     "name": "stdout",
     "output_type": "stream",
     "text": [
      "14\n"
     ]
    }
   ],
   "source": [
    "# len function\n",
    "text = 'Hello, Python!'\n",
    "length = len(text)\n",
    "print(length)"
   ]
  },
  {
   "cell_type": "code",
   "execution_count": 3,
   "id": "c104a0f9",
   "metadata": {},
   "outputs": [
    {
     "name": "stdout",
     "output_type": "stream",
     "text": [
      "K\n",
      "n\n",
      "n\n",
      "t\n"
     ]
    }
   ],
   "source": [
    "# Access string elements\n",
    "name = 'Konstantin'\n",
    "print(name[0])\n",
    "print(name[2])\n",
    "\n",
    "# Use negative indices\n",
    "print(name[-1])\n",
    "print(name[-3])\n"
   ]
  },
  {
   "cell_type": "code",
   "execution_count": 8,
   "id": "efbb3608",
   "metadata": {},
   "outputs": [
    {
     "name": "stdout",
     "output_type": "stream",
     "text": [
      "Python\n",
      "Pyt\n",
      "thon\n",
      "thon\n",
      "Pytho\n"
     ]
    }
   ],
   "source": [
    "# string slicing\n",
    "# specify the start and end the slice\n",
    "language = 'Pytnon'\n",
    "language = language.replace('n', 'h', 1)\n",
    "print(language)\n",
    "print(language[0:3])\n",
    "\n",
    "# What is the output\n",
    "print(language[2:len(language)])\n",
    "print(language[2 : ])\n",
    "print(language[ : 5])"
   ]
  },
  {
   "cell_type": "code",
   "execution_count": 14,
   "id": "77f4a2eb",
   "metadata": {},
   "outputs": [
    {
     "name": "stdout",
     "output_type": "stream",
     "text": [
      "hon\n",
      "Pto\n",
      "nhy\n",
      "nohtyP\n"
     ]
    }
   ],
   "source": [
    "# you can use negative indices\n",
    "language = 'Python'\n",
    "\n",
    "print(language[-3: ])\n",
    "\n",
    "#specifty the step\n",
    "print(language[::2])\n",
    "print(language[::-2])\n",
    "print(language[::-1])"
   ]
  },
  {
   "cell_type": "code",
   "execution_count": 3,
   "id": "f8e16149",
   "metadata": {},
   "outputs": [
    {
     "name": "stdout",
     "output_type": "stream",
     "text": [
      "56789\n",
      "12389\n"
     ]
    }
   ],
   "source": [
    "text = '123456789'\n",
    "#print the second half of the text\n",
    "print(text[len(text)//2:])\n",
    "\n",
    "#print first three characters + last 2 characters\n",
    "print(text[0:3] + text[-2:])"
   ]
  },
  {
   "cell_type": "code",
   "execution_count": 9,
   "id": "18e2c411",
   "metadata": {},
   "outputs": [
    {
     "name": "stdout",
     "output_type": "stream",
     "text": [
      "Toyota\n",
      "Bmw\n",
      "Audi\n",
      "Volkswagen\n",
      "Nissan\n"
     ]
    }
   ],
   "source": [
    "makes = 'toyota, bmw, audi, volkswagen, nissan'\n",
    "\n",
    "car_makes = makes.split(',') # car_makes is a list of strings\n",
    "# iterate through the list\n",
    "for make in car_makes:\n",
    "    make = make.lstrip()\n",
    "    if make == ['bmw','audi']:\n",
    "        print(make.upper())\n",
    "    else:\n",
    "        print(make.title())"
   ]
  },
  {
   "cell_type": "code",
   "execution_count": 14,
   "id": "0f120476",
   "metadata": {},
   "outputs": [
    {
     "name": "stdout",
     "output_type": "stream",
     "text": [
      "1\n",
      "3\n",
      "5\n",
      "7\n",
      "9\n",
      "4\n",
      "8\n",
      "12\n",
      "16\n",
      "20\n",
      "24\n",
      "28\n",
      "32\n",
      "36\n",
      "40\n",
      "44\n",
      "48\n",
      "52\n",
      "56\n",
      "60\n",
      "64\n",
      "68\n",
      "72\n",
      "76\n",
      "80\n"
     ]
    }
   ],
   "source": [
    "# for loop\n",
    "# range() BIF\n",
    "for i in range(1, 10, 2):\n",
    "    print(i)\n",
    "\n",
    "\n",
    "# print all the squares from 1 to 20\n",
    "for i in range(1, 21):\n",
    "    print(i * 2**2)"
   ]
  }
 ],
 "metadata": {
  "kernelspec": {
   "display_name": "Python 3",
   "language": "python",
   "name": "python3"
  },
  "language_info": {
   "codemirror_mode": {
    "name": "ipython",
    "version": 3
   },
   "file_extension": ".py",
   "mimetype": "text/x-python",
   "name": "python",
   "nbconvert_exporter": "python",
   "pygments_lexer": "ipython3",
   "version": "3.12.1"
  }
 },
 "nbformat": 4,
 "nbformat_minor": 5
}
