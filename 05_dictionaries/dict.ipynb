{
 "cells": [
  {
   "cell_type": "code",
   "execution_count": 10,
   "id": "700f49e5",
   "metadata": {},
   "outputs": [
    {
     "name": "stdout",
     "output_type": "stream",
     "text": [
      "{'name': 'Anna', 'age': 25, 'city': 'Lakeland'}\n",
      "{'name': 'Alice', 'age': 25, 'city': 'New York'}\n",
      "{}\n"
     ]
    }
   ],
   "source": [
    "# Crate a dictionary\n",
    "my_dict = {\"name\": \"Anna\", \"age\": 25, \"city\": \"Lakeland\"}\n",
    "# Using dict() constructor:\n",
    "my_dict2 = dict(name = \"Alice\", age = 25, city = \"New York\")\n",
    "\n",
    "empty_dict = {}\n",
    "\n",
    "print(my_dict)\n",
    "print(my_dict2)\n",
    "print(empty_dict)"
   ]
  },
  {
   "cell_type": "code",
   "execution_count": 1,
   "id": "f97be9b1",
   "metadata": {},
   "outputs": [
    {
     "name": "stdout",
     "output_type": "stream",
     "text": [
      "Jake\n",
      "{'name': 'Jake', 'age': 20, 'city': 'Lakeland', 'email': 'jack@floridapoly.edu'}\n"
     ]
    }
   ],
   "source": [
    "my_dict = {\"name\": \"Jake\", \"age\": 25, \"city\": \"Lakeland\"}\n",
    "#Access a value:\n",
    "print(my_dict[\"name\"])\n",
    "\n",
    "#Modify the value\n",
    "my_dict[\"age\"] =20\n",
    "\n",
    "#Add a new key-value pair\n",
    "my_dict[\"email\"] = \"jack@floridapoly.edu\"\n",
    "print(my_dict)"
   ]
  },
  {
   "cell_type": "code",
   "execution_count": 2,
   "id": "bdb6c9e0",
   "metadata": {},
   "outputs": [
    {
     "name": "stdout",
     "output_type": "stream",
     "text": [
      "not found\n"
     ]
    }
   ],
   "source": [
    "#print(my_dict[\"gpa\"]) # generates an error\n",
    "\n",
    "#get method\n",
    "print(my_dict.get(\"gpa\", \"not found\")) # returns \"not found\" if key doesn't exist"
   ]
  },
  {
   "cell_type": "code",
   "execution_count": 5,
   "id": "29143915",
   "metadata": {},
   "outputs": [
    {
     "name": "stdout",
     "output_type": "stream",
     "text": [
      "dict_keys(['name', 'age', 'city', 'email'])\n",
      "dict_values(['Jake', 20, 'Lakeland', 'jack@floridapoly.edu'])\n",
      "dict_items([('name', 'Jake'), ('age', 20), ('city', 'Lakeland'), ('email', 'jack@floridapoly.edu')])\n"
     ]
    }
   ],
   "source": [
    "# keys - returns all the keys\n",
    "print(my_dict.keys())\n",
    "\n",
    "# values - reutrns all the values\n",
    "print(my_dict.values())\n",
    "\n",
    "#items - returns key-value pairs\n",
    "print(my_dict.items())"
   ]
  },
  {
   "cell_type": "code",
   "execution_count": 6,
   "id": "8f863875",
   "metadata": {},
   "outputs": [
    {
     "name": "stdout",
     "output_type": "stream",
     "text": [
      "name Anna\n",
      "age 19\n",
      "city Orlando\n",
      "name -> Jake\n",
      "age -> 20\n",
      "city -> Lakeland\n",
      "email -> jack@floridapoly.edu\n"
     ]
    }
   ],
   "source": [
    "# iterations over dictionaries\n",
    "info = dict(name = \"Anna\", age = 19, city = \"Orlando\")\n",
    "for key in info:\n",
    "    print(key, info[key])\n",
    "\n",
    "for key, value in my_dict.items():\n",
    "    print(f\"{key} -> {value}\")"
   ]
  },
  {
   "cell_type": "code",
   "execution_count": 7,
   "id": "ca77efae",
   "metadata": {},
   "outputs": [
    {
     "name": "stdout",
     "output_type": "stream",
     "text": [
      "{'apple': 3, 'banana': 1, 'orange': 2}\n"
     ]
    }
   ],
   "source": [
    "# Count the frequency of words\n",
    "msg = \"apple banana orange apple orange apple\"\n",
    "words = msg.split(\" \")\n",
    "#create a dictionary\n",
    "word_count = {}\n",
    "for word in words:\n",
    "    word_count[word] = word_count.get(word, 0) + 1\n",
    "print(word_count)"
   ]
  },
  {
   "cell_type": "code",
   "execution_count": 13,
   "id": "e91153b3",
   "metadata": {},
   "outputs": [
    {
     "name": "stdout",
     "output_type": "stream",
     "text": [
      "{'red', 'green', 'blue'}\n",
      "{1, 2, 3, 4}\n",
      "set()\n"
     ]
    }
   ],
   "source": [
    "# Create a set\n",
    "# Set is a collection of unqiue elements\n",
    "\n",
    "colors = {\"red\",\"blue\", \"green\"}\n",
    "\n",
    "numbers = set([1, 2, 3, 4, 3])\n",
    "\n",
    "# empty set\n",
    "empty_set = set()\n",
    "\n",
    "print(colors)\n",
    "print(numbers)\n",
    "print(empty_set)"
   ]
  },
  {
   "cell_type": "code",
   "execution_count": 17,
   "id": "476709d1",
   "metadata": {},
   "outputs": [
    {
     "name": "stdout",
     "output_type": "stream",
     "text": [
      "{1, 2, 3, 4, 5, 6, 7}\n",
      "{3, 4, 5}\n",
      "{1, 2}\n",
      "{6, 7}\n",
      "{1, 2, 6, 7}\n"
     ]
    }
   ],
   "source": [
    "set1 = {1, 2, 3, 4, 5}\n",
    "set2 = {3, 4, 5, 6, 7}\n",
    "\n",
    "# Combine  elements from 2 sets (union)\n",
    "union_set = set1|set2\n",
    "\n",
    "#Intersection of two sets\n",
    "intersection_set = set1 & set2\n",
    "\n",
    "#Difference of two sets\n",
    "difference_set = set1 -set2\n",
    "difference_set2 = set2 -set1\n",
    "difference_set3 = set1 ^ set2\n",
    "\n",
    "\n",
    "print(union_set)\n",
    "print(intersection_set)\n",
    "print(difference_set)\n",
    "print(difference_set2)\n",
    "print(difference_set3)"
   ]
  },
  {
   "cell_type": "code",
   "execution_count": 18,
   "id": "e7831e2c",
   "metadata": {},
   "outputs": [
    {
     "name": "stdout",
     "output_type": "stream",
     "text": [
      "{'red', 'green', 'purple'}\n"
     ]
    }
   ],
   "source": [
    "colors = {\"red\",\"blue\", \"green\"}\n",
    "colors.add(\"purple\")\n",
    "colors.remove(\"blue\") # generates an error if blue is not in colors\n",
    "colors.discard(\"blue\") # no error if not found\n",
    "\n",
    "print(colors)"
   ]
  }
 ],
 "metadata": {
  "kernelspec": {
   "display_name": "Python 3",
   "language": "python",
   "name": "python3"
  },
  "language_info": {
   "codemirror_mode": {
    "name": "ipython",
    "version": 3
   },
   "file_extension": ".py",
   "mimetype": "text/x-python",
   "name": "python",
   "nbconvert_exporter": "python",
   "pygments_lexer": "ipython3",
   "version": "3.12.1"
  }
 },
 "nbformat": 4,
 "nbformat_minor": 5
}
