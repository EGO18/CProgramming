{
 "cells": [
  {
   "cell_type": "code",
   "execution_count": 1,
   "id": "9c07314e",
   "metadata": {},
   "outputs": [
    {
     "name": "stdout",
     "output_type": "stream",
     "text": [
      "/workspaces/CProgramming/1.txt\n",
      "1.txt\n",
      "/workspaces/CProgramming\n",
      "/workspaces\n",
      ".txt\n",
      "Exist: True\n",
      "Is file: True\n",
      "Is directory: False\n",
      "\\workspaces\\CProgramming\\17_files\\files.ipynb\n",
      "README.md\n",
      "4.txt\n",
      "3.txt\n",
      "1.txt\n",
      "5.txt\n",
      "file_name.txt\n",
      "2.txt\n"
     ]
    }
   ],
   "source": [
    "from pathlib import Path\n",
    "\n",
    "# Create text files in the current directory\n",
    "# 1.txt 2.txt 3.txt 4.txt 5.txt\n",
    "\n",
    "for i in range(1, 6):\n",
    "    with open(f\"{i}.txt\", \"w\") as file:\n",
    "        file.write(f\"Writing into {file.name} file\")\n",
    "\n",
    "# Working with file paths\n",
    "cur = Path(\"1.txt\")\n",
    "\n",
    "# Show some Path attributes\n",
    "print(cur.absolute()) #absloute path\n",
    "print(cur.name) # file name\n",
    "print(cur.absolute().parent) # parnet of the file\n",
    "print(cur.absolute().parent.parent) # grandparent of the file\n",
    "print(cur.suffix) # file extension\n",
    "\n",
    "#Methods\n",
    "print(f\"Exist: {cur.exists()}\")\n",
    "print(f\"Is file: {cur.is_file()}\")\n",
    "print(f\"Is directory: {cur.is_dir()}\")\n",
    "\n",
    "#Create directories\n",
    "dir_name1 = \"dir1\"\n",
    "dir_name2 = \"dir2\"\n",
    "dir_name3 = \"dir3\"\n",
    "dirs = [dir_name1, dir_name2, dir_name3]\n",
    "for dir in dirs:\n",
    "    new_path = Path(cur.absolute().parent / dir)\n",
    "    if not new_path.exists():\n",
    "        new_path.mkdir()\n",
    "\n",
    "# Create a list of files in the current directory\n",
    "for file in cur.parent.iterdir():\n",
    "    if file.is_file():\n",
    "        print(file.name)\n",
    "\n",
    "files = [x.name for x in cur.parent.iterdir() if x.is_file()]\n",
    "\n",
    "with open(\"file_name.txt\", \"w\") as fl:\n",
    "    fl.write(str(files))\n",
    "    fl.write(\"\\n\")\n"
   ]
  }
 ],
 "metadata": {
  "kernelspec": {
   "display_name": "Python 3",
   "language": "python",
   "name": "python3"
  },
  "language_info": {
   "codemirror_mode": {
    "name": "ipython",
    "version": 3
   },
   "file_extension": ".py",
   "mimetype": "text/x-python",
   "name": "python",
   "nbconvert_exporter": "python",
   "pygments_lexer": "ipython3",
   "version": "3.12.1"
  }
 },
 "nbformat": 4,
 "nbformat_minor": 5
}
