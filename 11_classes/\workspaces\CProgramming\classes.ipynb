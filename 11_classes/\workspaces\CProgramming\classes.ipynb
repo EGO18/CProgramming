{
 "cells": [
  {
   "cell_type": "code",
   "execution_count": null,
   "id": "dd4bfc87",
   "metadata": {},
   "outputs": [
    {
     "name": "stdout",
     "output_type": "stream",
     "text": [
      "Woof! Woof!\n"
     ]
    }
   ],
   "source": [
    "#Dog class\n",
    "\n",
    "#self refers to an instance of the class\n",
    "class Dog:\n",
    "    def bark(self): #instance method\n",
    "        return \"Woof! Woof!\"\n",
    "\n",
    "#Create an instance of Dog\n",
    "my_dog = Dog()\n",
    "#Call bark method\n",
    "print(my_dog.bark())"
   ]
  },
  {
   "cell_type": "code",
   "execution_count": 7,
   "id": "f6a0cd1f",
   "metadata": {},
   "outputs": [
    {
     "name": "stdout",
     "output_type": "stream",
     "text": [
      "100\n"
     ]
    }
   ],
   "source": [
    "class Square:\n",
    "    side = 8\n",
    "    #Create an instance method area\n",
    "    def area(self):\n",
    "        return self.side ** 2\n",
    "#create an instance of square\n",
    "x = Square()\n",
    "x.side = 10\n",
    "#print the area\n",
    "print(x.area())"
   ]
  },
  {
   "cell_type": "code",
   "execution_count": 9,
   "id": "c00128bd",
   "metadata": {},
   "outputs": [
    {
     "name": "stdout",
     "output_type": "stream",
     "text": [
      "Leopold\n"
     ]
    }
   ],
   "source": [
    "# __int__ method (constructor)\n",
    "# use it to initialize the properties of a new object\n",
    "\n",
    "class Cat:\n",
    "    def __init__(self,name):\n",
    "        self.name = name\n",
    "\n",
    "leopold = Cat(\"Leopold\")\n",
    "print(leopold.name)"
   ]
  },
  {
   "cell_type": "code",
   "execution_count": null,
   "id": "05daf24c",
   "metadata": {},
   "outputs": [],
   "source": [
    "class Car:\n",
    "    def __init__(self, model):\n",
    "        self.model = model"
   ]
  }
 ],
 "metadata": {
  "kernelspec": {
   "display_name": "Python 3",
   "language": "python",
   "name": "python3"
  },
  "language_info": {
   "codemirror_mode": {
    "name": "ipython",
    "version": 3
   },
   "file_extension": ".py",
   "mimetype": "text/x-python",
   "name": "python",
   "nbconvert_exporter": "python",
   "pygments_lexer": "ipython3",
   "version": "3.12.1"
  }
 },
 "nbformat": 4,
 "nbformat_minor": 5
}
