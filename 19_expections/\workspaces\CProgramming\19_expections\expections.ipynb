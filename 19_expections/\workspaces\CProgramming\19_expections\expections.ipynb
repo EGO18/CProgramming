{
 "cells": [
  {
   "cell_type": "code",
   "execution_count": null,
   "id": "a8198a07",
   "metadata": {},
   "outputs": [
    {
     "ename": "TypeError",
     "evalue": "unsupported operand type(s) for +: 'int' and 'str'",
     "output_type": "error",
     "traceback": [
      "\u001b[31m---------------------------------------------------------------------------\u001b[39m",
      "\u001b[31mTypeError\u001b[39m                                 Traceback (most recent call last)",
      "\u001b[36mCell\u001b[39m\u001b[36m \u001b[39m\u001b[32mIn[3]\u001b[39m\u001b[32m, line 2\u001b[39m\n\u001b[32m      1\u001b[39m a = \u001b[32m1\u001b[39m\n\u001b[32m----> \u001b[39m\u001b[32m2\u001b[39m \u001b[43ma\u001b[49m\u001b[43m \u001b[49m\u001b[43m+\u001b[49m\u001b[43m \u001b[49m\u001b[33;43m'\u001b[39;49m\u001b[33;43ma\u001b[39;49m\u001b[33;43m'\u001b[39;49m\n\u001b[32m      4\u001b[39m \u001b[38;5;28mprint\u001b[39m(\u001b[33m\"\u001b[39m\u001b[33mVery important code\u001b[39m\u001b[33m\"\u001b[39m)\n",
      "\u001b[31mTypeError\u001b[39m: unsupported operand type(s) for +: 'int' and 'str'"
     ]
    }
   ],
   "source": [
    "a = 1\n",
    "a + 'a'\n",
    "\n",
    "print(\"Very important code\")\n",
    "\n"
   ]
  },
  {
   "cell_type": "code",
   "execution_count": 2,
   "id": "75d4fb9a",
   "metadata": {},
   "outputs": [
    {
     "name": "stdout",
     "output_type": "stream",
     "text": [
      "Cannot add a string and an int\n",
      "Very important code\n"
     ]
    }
   ],
   "source": [
    "# Try expection block\n",
    "\n",
    "try:\n",
    "    a = 1\n",
    "    a + 'a'\n",
    "except TypeError as e:\n",
    "    print(\"Cannot add a string and an int\")\n",
    "    \n",
    "print(\"Very important code\")"
   ]
  },
  {
   "cell_type": "code",
   "execution_count": 5,
   "id": "c4965a74",
   "metadata": {},
   "outputs": [
    {
     "name": "stdout",
     "output_type": "stream",
     "text": [
      "Error: list index out of range\n"
     ]
    }
   ],
   "source": [
    "def f():\n",
    "    l= [1,2,3]\n",
    "    print(l[3])\n",
    "\n",
    "try:\n",
    "    f()\n",
    "except IndexError as e:\n",
    "    print(f\"Error: {e}\")"
   ]
  },
  {
   "cell_type": "code",
   "execution_count": 12,
   "id": "e715a2ab",
   "metadata": {},
   "outputs": [
    {
     "name": "stdout",
     "output_type": "stream",
     "text": [
      "Both arguments must be strings\n"
     ]
    }
   ],
   "source": [
    "# We can raise expections\n",
    "def add_strings(s1,s2):\n",
    "    if not (isinstance(s1, str) and isinstance(s2, str)):\n",
    "        raise TypeError(\"Both arguments must be strings\")\n",
    "    return s1 + s2\n",
    "\n",
    "try:\n",
    "    sum = add_strings(\"123\", 345)\n",
    "    print(\"I want this to be excuted\")\n",
    "except TypeError as e:\n",
    "    print(e)\n",
    "else:\n",
    "    print(sum)"
   ]
  },
  {
   "cell_type": "code",
   "execution_count": 18,
   "id": "af82cddc",
   "metadata": {},
   "outputs": [
    {
     "name": "stdout",
     "output_type": "stream",
     "text": [
      "Error: Temperature must be a number\n"
     ]
    }
   ],
   "source": [
    "class Temperature:\n",
    "    def __init__(self, celsius):\n",
    "        if not isinstance(celsius, (int, float)):\n",
    "            raise TypeError(\"Temperature must be a number\")\n",
    "        elif celsius < - 273:\n",
    "            raise ValueError(\"Temperature cannot be below absloute zero (-273)\")\n",
    "        self.celsius = celsius\n",
    "\n",
    "try:\n",
    "    temp = Temperature(\"-300\")\n",
    "except ValueError as e:\n",
    "    temp = Temperature(0)\n",
    "    print(e)\n",
    "except TypeError as e:\n",
    "    temp = Temperature(10)\n",
    "    print(f\"Error: {e}\")"
   ]
  },
  {
   "cell_type": "code",
   "execution_count": 21,
   "id": "67b58842",
   "metadata": {},
   "outputs": [],
   "source": [
    "class Temperature:\n",
    "    def __init__(self, celsius):\n",
    "        if not isinstance(celsius, (int, float)):\n",
    "            raise TypeError(\"Temperature must be a number\")\n",
    "        elif celsius < - 273:\n",
    "            raise ValueError(\"Temperature cannot be below absloute zero (-273)\")\n",
    "        self.celsius = celsius\n",
    "\n",
    "try:\n",
    "    temp = Temperature(-30)\n",
    "except (ValueError, TypeError) as e:\n",
    "    temp = Temperature(0)\n",
    "    print(e)\n"
   ]
  },
  {
   "cell_type": "code",
   "execution_count": null,
   "id": "64d479ea",
   "metadata": {},
   "outputs": [],
   "source": [
    "class Temperature:\n",
    "    def __init__(self, celsius):\n",
    "        if not isinstance(celsius, (int, float)):\n",
    "            raise TypeError(\"Temperature must be a number\")\n",
    "        elif celsius < - 273:\n",
    "            raise ValueError(\"Temperature cannot be below absloute zero (-273)\")\n",
    "        self.celsius = celsius\n",
    "\n",
    "try:\n",
    "    temp = Temperature(-30)\n",
    "except (ValueError, TypeError) as e: # Handling multiple expections\n",
    "    temp = Temperature(0)\n",
    "    print(e)\n"
   ]
  },
  {
   "cell_type": "code",
   "execution_count": 23,
   "id": "185489ae",
   "metadata": {},
   "outputs": [
    {
     "name": "stdout",
     "output_type": "stream",
     "text": [
      "Min temp must be loewr than max temp\n"
     ]
    }
   ],
   "source": [
    "# Create our custom type expection\n",
    "\n",
    "class TemperatureRangeError(ValueError):\n",
    "    \"\"\"Raised when temperature range is invalid\"\"\"\n",
    "    pass\n",
    "\n",
    "class Temperature:\n",
    "    def __init__(self, celsius):\n",
    "        if not isinstance(celsius, (int, float)):\n",
    "            raise TypeError(\"Temperature must be a number\")\n",
    "        elif celsius < - 273:\n",
    "            raise ValueError(\"Temperature cannot be below absloute zero (-273)\")\n",
    "        self.celsius = celsius\n",
    "        self.min_temp = 0\n",
    "        self.max_temp = 0\n",
    "    \n",
    "    def set_range(self, min_temp, max_temp):\n",
    "        if not (isinstance(min_temp, Temperature) and isinstance(max_temp, Temperature)):\n",
    "            raise TypeError(\"Min temp and max temp should be number\")\n",
    "        elif min_temp.celsius > max_temp.celsius:\n",
    "            raise TemperatureRangeError(\"Min temp must be loewr than max temp\")\n",
    "        \n",
    "\n",
    "        self.min_temp = min_temp.celsius\n",
    "        self.max_temp = max_temp.celsius\n",
    "        \n",
    "\n",
    "try:\n",
    "    temp = Temperature(-30)\n",
    "    temp.set_range(Temperature(11), Temperature(10))\n",
    "except (ValueError, TypeError, TemperatureRangeError) as e: # Handling multiple expections\n",
    "    temp = Temperature(0)\n",
    "    print(e)\n"
   ]
  }
 ],
 "metadata": {
  "kernelspec": {
   "display_name": "Python 3",
   "language": "python",
   "name": "python3"
  },
  "language_info": {
   "codemirror_mode": {
    "name": "ipython",
    "version": 3
   },
   "file_extension": ".py",
   "mimetype": "text/x-python",
   "name": "python",
   "nbconvert_exporter": "python",
   "pygments_lexer": "ipython3",
   "version": "3.12.1"
  }
 },
 "nbformat": 4,
 "nbformat_minor": 5
}
