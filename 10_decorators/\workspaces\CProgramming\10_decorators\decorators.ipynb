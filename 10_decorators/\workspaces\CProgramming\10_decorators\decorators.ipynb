{
 "cells": [
  {
   "cell_type": "code",
   "execution_count": 2,
   "id": "90a5ee97",
   "metadata": {},
   "outputs": [
    {
     "name": "stdout",
     "output_type": "stream",
     "text": [
      "f took 0.4002959728240967\n"
     ]
    }
   ],
   "source": [
    "#Define a function and measure its execution time\n",
    "\n",
    "# Specific import\n",
    "from time import sleep, time\n",
    "\n",
    "def f():\n",
    "    sleep(0.4)\n",
    "\n",
    "# Get the current time\n",
    "t = time()\n",
    "\n",
    "f()\n",
    "print(\"f took\", time()-t)"
   ]
  },
  {
   "cell_type": "code",
   "execution_count": 3,
   "id": "299ec097",
   "metadata": {},
   "outputs": [
    {
     "name": "stdout",
     "output_type": "stream",
     "text": [
      "g took 0.20024323463439941\n"
     ]
    }
   ],
   "source": [
    "# Create another function\n",
    "\n",
    "def g():\n",
    "    sleep(0.2)\n",
    "t = time()\n",
    "\n",
    "g()\n",
    "print(\"g took\", time()-t)"
   ]
  },
  {
   "cell_type": "code",
   "execution_count": 4,
   "id": "4f05f5a6",
   "metadata": {},
   "outputs": [
    {
     "name": "stdout",
     "output_type": "stream",
     "text": [
      "f took: 0.4001164436340332\n",
      "g took: 0.2001323699951172\n"
     ]
    }
   ],
   "source": [
    "# Let's optimize the measurement\n",
    "def measure(func):\n",
    "    t = time() # get current time\n",
    "    func() # call the received function\n",
    "    print(func.__name__, \"took:\", time()-t)\n",
    "\n",
    "measure(f)\n",
    "measure(g)"
   ]
  },
  {
   "cell_type": "code",
   "execution_count": 5,
   "id": "7ce31a69",
   "metadata": {},
   "outputs": [
    {
     "name": "stdout",
     "output_type": "stream",
     "text": [
      "f2 took: 0.10178565979003906\n",
      "f2 took: 0.10009288787841797\n",
      "f2 took: 0.10010313987731934\n"
     ]
    }
   ],
   "source": [
    "def f2(sleep_time = 0.1):\n",
    "    sleep(sleep_time)\n",
    "\n",
    "def measure(func, *args, **kwargs):\n",
    "    t = time() # get current time\n",
    "    func() # call the received function\n",
    "    print(func.__name__, \"took:\", time()-t)\n",
    "\n",
    "measure(f2)\n",
    "measure(f2, 0.5)\n",
    "measure(f2, sleep_time = 0.7)"
   ]
  },
  {
   "cell_type": "code",
   "execution_count": 6,
   "id": "1a976b2b",
   "metadata": {},
   "outputs": [
    {
     "name": "stdout",
     "output_type": "stream",
     "text": [
      "f2 took: 0.1000828742980957\n"
     ]
    }
   ],
   "source": [
    "# What if I want to built in measurement into a function\n",
    "\n",
    "\n",
    "def measure(func, *args, **kwargs):\n",
    "    def wrapper(*args,**kwargs):\n",
    "        t = time() # get current time\n",
    "        func() # call the received function\n",
    "        print(func.__name__, \"took:\", time()-t)\n",
    "    return wrapper\n",
    "\n",
    "@measure\n",
    "def f2(sleep_time = 0.1):\n",
    "    sleep(sleep_time)\n",
    "\n",
    "f2(1)"
   ]
  },
  {
   "cell_type": "code",
   "execution_count": null,
   "id": "a2c31d6c",
   "metadata": {},
   "outputs": [],
   "source": []
  }
 ],
 "metadata": {
  "kernelspec": {
   "display_name": "Python 3",
   "language": "python",
   "name": "python3"
  },
  "language_info": {
   "codemirror_mode": {
    "name": "ipython",
    "version": 3
   },
   "file_extension": ".py",
   "mimetype": "text/x-python",
   "name": "python",
   "nbconvert_exporter": "python",
   "pygments_lexer": "ipython3",
   "version": "3.12.1"
  }
 },
 "nbformat": 4,
 "nbformat_minor": 5
}
