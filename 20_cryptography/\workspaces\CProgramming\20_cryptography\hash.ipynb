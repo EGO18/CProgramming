{
 "cells": [
  {
   "cell_type": "code",
   "execution_count": 3,
   "id": "e1e21728",
   "metadata": {},
   "outputs": [
    {
     "name": "stdout",
     "output_type": "stream",
     "text": [
      "dffd6021bb2bd5b0af676290809ec3a53191dd81c7f70a4b28688a362182986f\n",
      "f16c3bb0532537acd5b2e418f2b1235b29181e35cffee7cc29d84de4a1d62e4d\n"
     ]
    }
   ],
   "source": [
    "import hashlib\n",
    "msg = \"Hello, World!\"\n",
    "b_msg = bytes(msg, \"utf-8\")\n",
    "\n",
    "hash_value = hashlib.sha256(b_msg).hexdigest()\n",
    "print(hash_value)\n",
    "\n",
    "msg = \"Hello, World?\"\n",
    "b_msg = bytes(msg, \"utf-8\")\n",
    "\n",
    "hash_value = hashlib.sha256(b_msg).hexdigest()\n",
    "print(hash_value)\n",
    "\n"
   ]
  },
  {
   "cell_type": "code",
   "execution_count": 6,
   "id": "611ac51f",
   "metadata": {},
   "outputs": [
    {
     "name": "stdout",
     "output_type": "stream",
     "text": [
      "7f504baa0103d5b35213145c9f7c4fc7e4be0a9dc1a9fe1234985544f7402294\n",
      "3ac94f1c60dc8cd44b1f26b1a74732dcf7f36bc2de670ddc92d9bd17d550aba3\n"
     ]
    }
   ],
   "source": [
    "import hashlib\n",
    "\n",
    "#Create a file\n",
    "with open(\"test.txt\", \"w\") as file:\n",
    "    file.write(\"Secret data inside a file! My password is 123456!! Nobody should see it!\")\n",
    "\n",
    "# Open the file for reading\n",
    "with open(\"test.txt\", \"rb\") as file:\n",
    "    file_content = file.read()\n",
    "\n",
    "# Create a has of file content\n",
    "hash_value = hashlib.sha256(file_content)\n",
    "print(hash_value.hexdigest())\n",
    "\n",
    "with open(\"test.txt\", \"a\") as file:\n",
    "    file.write(\"New info\")\n",
    "\n",
    "# Open the file for reading\n",
    "with open(\"test.txt\", \"rb\") as file:\n",
    "    file_content = file.read()\n",
    "hash_value = hashlib.sha256(file_content)\n",
    "print(hash_value.hexdigest())\n"
   ]
  },
  {
   "cell_type": "code",
   "execution_count": null,
   "id": "6ad17bc2",
   "metadata": {},
   "outputs": [],
   "source": []
  }
 ],
 "metadata": {
  "kernelspec": {
   "display_name": "Python 3",
   "language": "python",
   "name": "python3"
  },
  "language_info": {
   "codemirror_mode": {
    "name": "ipython",
    "version": 3
   },
   "file_extension": ".py",
   "mimetype": "text/x-python",
   "name": "python",
   "nbconvert_exporter": "python",
   "pygments_lexer": "ipython3",
   "version": "3.12.1"
  }
 },
 "nbformat": 4,
 "nbformat_minor": 5
}
